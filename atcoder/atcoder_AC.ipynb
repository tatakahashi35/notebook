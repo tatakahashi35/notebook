{
 "cells": [
  {
   "cell_type": "code",
   "execution_count": null,
   "metadata": {
    "slideshow": {
     "slide_type": "-"
    }
   },
   "outputs": [],
   "source": [
    "# coding: UTF-8\n",
    "import sys\n",
    "import os\n",
    "import requests\n",
    "from datetime import datetime, timedelta\n",
    "from dateutil.relativedelta import relativedelta\n",
    "\n",
    "import pandas as pd"
   ]
  },
  {
   "cell_type": "code",
   "execution_count": null,
   "metadata": {},
   "outputs": [],
   "source": [
    "USER_ID = \"\""
   ]
  },
  {
   "cell_type": "code",
   "execution_count": null,
   "metadata": {},
   "outputs": [],
   "source": [
    "URL = f\"https://kenkoooo.com/atcoder/atcoder-api/results?user={USER_ID}\" # アクセスするURL\n",
    "\n",
    "Valid_max_point = 2000 # 考慮するポイントの最大値 マラソン 系を除くため\n",
    "Today = datetime.today()\n",
    "\n",
    "# 全期間\n",
    "Total_problems = 0\n",
    "Total_score = 0\n",
    "Latest_AC_Date = datetime.date(Today - timedelta(days=1000))\n",
    "\n",
    "# 2ヵ月\n",
    "Two_month_before = datetime.date(Today - relativedelta(months = 2))\n",
    "Latest_two_month_score = 0\n",
    "\n",
    "# 1週間\n",
    "One_week_before = datetime.date(Today - timedelta(days=7))\n",
    "Weekly_AC_Days = 0\n",
    "Weekly_AC_problems = 0"
   ]
  },
  {
   "cell_type": "code",
   "execution_count": null,
   "metadata": {},
   "outputs": [],
   "source": [
    "ac_data = requests.get(URL)"
   ]
  },
  {
   "cell_type": "code",
   "execution_count": null,
   "metadata": {},
   "outputs": [],
   "source": [
    "ac_list = eval(ac_data.text)"
   ]
  },
  {
   "cell_type": "code",
   "execution_count": null,
   "metadata": {},
   "outputs": [],
   "source": []
  },
  {
   "cell_type": "code",
   "execution_count": null,
   "metadata": {
    "scrolled": true
   },
   "outputs": [],
   "source": [
    "submit_df = pd.DataFrame(ac_list)"
   ]
  },
  {
   "cell_type": "code",
   "execution_count": null,
   "metadata": {
    "scrolled": true
   },
   "outputs": [],
   "source": [
    "submit_df"
   ]
  },
  {
   "cell_type": "code",
   "execution_count": null,
   "metadata": {
    "scrolled": true
   },
   "outputs": [],
   "source": [
    "    submit_df = pd.DataFrame(ac_list)\n",
    "    ac_df = submit_df.query('result == \"AC\" & point <= @Valid_max_point').copy()\n",
    "    ac_df['date'] = ac_df['epoch_second'].apply(lambda x: datetime.date(datetime.fromtimestamp(x)))\n",
    "    ac_df['score'] = ac_df['point']**2\n",
    "    ac_df = ac_df[['date', 'problem_id', 'point', 'score']]"
   ]
  },
  {
   "cell_type": "code",
   "execution_count": null,
   "metadata": {
    "scrolled": true
   },
   "outputs": [],
   "source": []
  },
  {
   "cell_type": "code",
   "execution_count": null,
   "metadata": {},
   "outputs": [],
   "source": []
  },
  {
   "cell_type": "code",
   "execution_count": null,
   "metadata": {
    "scrolled": true
   },
   "outputs": [],
   "source": [
    "    # 全期間の合計\n",
    "    global Total_problems, Total_score, Latest_AC_Date\n",
    "    Total_problems = ac_df.count()['problem_id']\n",
    "    Total_score = ac_df.sum()['score']\n",
    "    Latest_AC_Date = ac_df.sort_values('date', ascending=False)['date'][0]"
   ]
  },
  {
   "cell_type": "code",
   "execution_count": null,
   "metadata": {},
   "outputs": [],
   "source": [
    "    # 最近2ヶ月のkpiグラフ\n",
    "    global Latest_two_month_score\n",
    "    Latest_two_month_score = ac_df.query('date >= @Two_month_before').sum()['score']\n",
    "    hoge = ac_df.query('date >= @Two_month_before').groupby('date').sum()\n",
    "    ax = hoge['point'].plot(marker='o', figsize=(12, 8), xlim=[Two_month_before, Today], grid=True, title='AtCoder point and score')\n",
    "    hoge['score'].plot(ax=ax, marker='o', figsize=(12, 8), xlim=[Two_month_before, Today], grid=True, title='AtCoder point and score')\n",
    "    #plt.savefig('point_score.png')"
   ]
  },
  {
   "cell_type": "code",
   "execution_count": null,
   "metadata": {},
   "outputs": [],
   "source": [
    "    # 最近1週間\n",
    "    global Weekly_AC_Days, Weekly_AC_problems\n",
    "    Weekly_AC_Days = ac_df.query('date >= @One_week_before')['date'].nunique()\n",
    "    Weekly_AC_problems = ac_df.query('date >= @One_week_before').count()['problem_id']"
   ]
  },
  {
   "cell_type": "code",
   "execution_count": null,
   "metadata": {},
   "outputs": [],
   "source": [
    "        message_all = \"AtCoderで解いた問題数: \" + str(Total_problems) + \", pointの2乗和: \"+ str(Total_score) + \", 直近のAC: \" + str(Latest_AC_Date) + \"\\n\"\n",
    "        message_2month = \"直近2ヵ月のAC スコア合計: \" + str(Latest_two_month_score) + \"\\n\"\n",
    "        message_1week = \"直近1週間のAC: \" + str(Weekly_AC_Days) + \"日間で\"+ str(Weekly_AC_problems) + \"問\\n\"\n",
    "        message = message_all + message_2month + message_1week"
   ]
  },
  {
   "cell_type": "code",
   "execution_count": null,
   "metadata": {},
   "outputs": [],
   "source": [
    "print(message)"
   ]
  },
  {
   "cell_type": "code",
   "execution_count": null,
   "metadata": {},
   "outputs": [],
   "source": []
  },
  {
   "cell_type": "code",
   "execution_count": null,
   "metadata": {},
   "outputs": [],
   "source": []
  }
 ],
 "metadata": {
  "kernelspec": {
   "display_name": "Python 3",
   "language": "python",
   "name": "python3"
  },
  "language_info": {
   "codemirror_mode": {
    "name": "ipython",
    "version": 3
   },
   "file_extension": ".py",
   "mimetype": "text/x-python",
   "name": "python",
   "nbconvert_exporter": "python",
   "pygments_lexer": "ipython3",
   "version": "3.8.3"
  }
 },
 "nbformat": 4,
 "nbformat_minor": 4
}
