{
 "cells": [
  {
   "cell_type": "markdown",
   "id": "bf7e0e21-9bc8-4ca6-83eb-636bf4eb14e5",
   "metadata": {},
   "source": [
    "# 直近 28日間の Connpass のイベントを取得する"
   ]
  },
  {
   "cell_type": "markdown",
   "id": "943b4dd1-1e15-446c-956e-1886bb95b971",
   "metadata": {},
   "source": [
    "- https://connpass.com/about/api/\n",
    "- https://connpass.com/robots.txt"
   ]
  },
  {
   "cell_type": "code",
   "execution_count": null,
   "id": "a7f813b4-afad-4ae3-9dbe-ccc3aae5f2b0",
   "metadata": {},
   "outputs": [],
   "source": []
  },
  {
   "cell_type": "code",
   "execution_count": null,
   "id": "41f3f8e2-c712-44b0-af7b-ce1b9bb8480b",
   "metadata": {},
   "outputs": [],
   "source": [
    "import datetime\n",
    "import time\n",
    "import pandas as pd\n",
    "\n",
    "from IPython.display import display, HTML\n",
    "\n",
    "import logging\n",
    "\n",
    "import requests\n",
    "from requests.adapters import HTTPAdapter\n",
    "from urllib3.util import Retry"
   ]
  },
  {
   "cell_type": "code",
   "execution_count": null,
   "id": "8214b6e2-2485-4cd1-ad35-1cf3bce187d6",
   "metadata": {},
   "outputs": [],
   "source": []
  },
  {
   "cell_type": "code",
   "execution_count": null,
   "id": "a012b679-12e3-47db-b60a-b80072ecc67c",
   "metadata": {},
   "outputs": [],
   "source": [
    "_FORMAT = '%(asctime)s [%(name)s] [%(levelname)s] %(filename)s %(funcName)s %(message)s'\n",
    "\n",
    "def get_logger(name, extra=None):\n",
    "    # インスタンスを作成\n",
    "    logger = logging.getLogger(name)\n",
    "    logger.setLevel(logging.INFO)\n",
    "    \n",
    "    formatter = logging.Formatter(_FORMAT)\n",
    "    \n",
    "    # 標準出力に出力\n",
    "    stdout = logging.StreamHandler()\n",
    "    stdout.setFormatter(formatter)\n",
    "    logger.addHandler(stdout)\n",
    "    return logger"
   ]
  },
  {
   "cell_type": "code",
   "execution_count": null,
   "id": "cb087504-deab-411b-af4f-7eba10917b2f",
   "metadata": {},
   "outputs": [],
   "source": [
    "LOGGER = get_logger(\"__name__\")"
   ]
  },
  {
   "cell_type": "code",
   "execution_count": null,
   "id": "a19e8f47-c9ae-46d2-9fc9-911c2a3fbb53",
   "metadata": {},
   "outputs": [],
   "source": []
  },
  {
   "cell_type": "code",
   "execution_count": null,
   "id": "a32dad89-3b11-40c2-8ea8-2c63b4adf83d",
   "metadata": {},
   "outputs": [],
   "source": [
    "def send(url, header, payload):\n",
    "    \"\"\"\n",
    "    汎用的な webhook 送信用メソッド\n",
    "    \"\"\"\n",
    "    session = requests.Session()\n",
    "    retries = Retry(total=5,\n",
    "                    backoff_factor=1,\n",
    "                    status_forcelist=[429, 500, 502, 503, 504])\n",
    "    session.mount(\"https://\", HTTPAdapter(max_retries=retries))\n",
    "    try:\n",
    "        response = session.get(url=url,\n",
    "                                headers=header,\n",
    "                                data=payload.encode(\"utf-8\"),\n",
    "                                timeout=(10.0, 30.0))\n",
    "    except requests.exceptions.ConnectTimeout:\n",
    "        LOGGER.error(f\"session timeout: {payload}\")\n",
    "    else:\n",
    "        # LOGGER.info(f\"status code: {response.status_code}\")\n",
    "        # LOGGER.info(f\"response: {response.json()}\")\n",
    "        return response"
   ]
  },
  {
   "cell_type": "code",
   "execution_count": null,
   "id": "5baed977-04d5-4ae8-b2c5-b1aeced6d387",
   "metadata": {},
   "outputs": [],
   "source": []
  },
  {
   "cell_type": "code",
   "execution_count": null,
   "id": "13af3382-e727-4bb7-9d31-c1105483bf29",
   "metadata": {},
   "outputs": [],
   "source": [
    "CONNPASS_URL = \"https://connpass.com/api/v1/event/\""
   ]
  },
  {
   "cell_type": "code",
   "execution_count": null,
   "id": "8cf5d09b-e2bb-47ec-9795-05efdb5e86ed",
   "metadata": {},
   "outputs": [],
   "source": [
    "def get_connpass_events(date):\n",
    "    \"\"\"\n",
    "    date に開催されるイベントを取得する\n",
    "    \"\"\"\n",
    "    date_str = date.strftime(\"%Y%m%d\")\n",
    "    \n",
    "    start = 1\n",
    "    events = []\n",
    "    while True:\n",
    "        time.sleep(5)\n",
    "        url = f\"{CONNPASS_URL}?ymd={date_str}&start={start}&count=100\"\n",
    "        response = send(url, {}, \"\")\n",
    "        response_json = response.json()\n",
    "        events.extend(response_json[\"events\"])\n",
    "\n",
    "        if len(events) < response_json[\"results_available\"]:\n",
    "            start += 100\n",
    "        else:\n",
    "            break\n",
    "\n",
    "        if response_json[\"results_returned\"] == 0:\n",
    "            break\n",
    "    return events"
   ]
  },
  {
   "cell_type": "code",
   "execution_count": null,
   "id": "fa4ef6c8-f61b-472c-9dcc-e3fa13906017",
   "metadata": {},
   "outputs": [],
   "source": []
  },
  {
   "cell_type": "markdown",
   "id": "1f2f5f43-eb98-4a1b-8a67-c9b5011c18f9",
   "metadata": {},
   "source": [
    "### api を使ってイベント取得"
   ]
  },
  {
   "cell_type": "code",
   "execution_count": null,
   "id": "ec7e04c1-8de8-47da-9816-4f48504982a5",
   "metadata": {},
   "outputs": [],
   "source": [
    "columns = ['event_id', 'title', 'catch', 'description', 'event_url', 'started_at',\n",
    "    'ended_at', 'limit', 'hash_tag', 'event_type', 'accepted', 'waiting',\n",
    "    'updated_at', 'owner_id', 'owner_nickname', 'owner_display_name',\n",
    "    'place', 'address', 'lat', 'lon', 'series']"
   ]
  },
  {
   "cell_type": "code",
   "execution_count": null,
   "id": "eec2ca6e-a921-4b4c-b5c6-1fee7720ac0e",
   "metadata": {},
   "outputs": [],
   "source": [
    "# 今日から28日間のイベント取得\n",
    "today = datetime.date.today()\n",
    "DAYS = 28"
   ]
  },
  {
   "cell_type": "code",
   "execution_count": null,
   "id": "7e71ce6f-5b31-4630-be61-dee89eaeb889",
   "metadata": {},
   "outputs": [],
   "source": [
    "events_df = pd.DataFrame(columns=columns)\n",
    "for i in range(DAYS):\n",
    "    date = today + datetime.timedelta(days = i)\n",
    "    LOGGER.info(date)\n",
    "    events = get_connpass_events(date)\n",
    "    df = pd.DataFrame(events)\n",
    "    events_df = pd.concat([events_df, df])\n",
    "events_df.reset_index(inplace=True, drop=True)"
   ]
  },
  {
   "cell_type": "code",
   "execution_count": null,
   "id": "4ca6fa0b-95ae-4f84-885e-cf827cd3b81b",
   "metadata": {},
   "outputs": [],
   "source": [
    "# events_df"
   ]
  },
  {
   "cell_type": "code",
   "execution_count": null,
   "id": "aa87275a-682a-4668-87ab-815dee487d26",
   "metadata": {},
   "outputs": [],
   "source": []
  },
  {
   "cell_type": "markdown",
   "id": "527b5449-1a6d-44ed-9ee0-a5b9f8a2e5c5",
   "metadata": {},
   "source": [
    "### おすすめ検索"
   ]
  },
  {
   "cell_type": "code",
   "execution_count": null,
   "id": "70a5c02a-b331-4ed3-b121-68df0dc942ee",
   "metadata": {
    "tags": []
   },
   "outputs": [],
   "source": [
    "recommend_events_df = events_df.query(\"event_type == 'participation' and limit > 100 and accepted > 50 and waiting < 10\").sort_values(\"started_at\")"
   ]
  },
  {
   "cell_type": "code",
   "execution_count": null,
   "id": "cf4c01f8-8e05-4b2d-b866-5940f92fa789",
   "metadata": {
    "tags": []
   },
   "outputs": [],
   "source": [
    "recommend_events_df[['event_id', 'title', 'catch', 'started_at', 'ended_at', 'limit', 'accepted', 'place']]"
   ]
  },
  {
   "cell_type": "code",
   "execution_count": null,
   "id": "f31e138b-2325-4bfc-93bd-ca3c290e79d2",
   "metadata": {},
   "outputs": [],
   "source": [
    "for _, row in recommend_events_df.iterrows():\n",
    "    print(f\"{row['event_id']}: {row['event_url']}\")\n",
    "    \n",
    "    # display(HTML(\"<hr>\"))\n",
    "    # display(HTML(f\"<h3><a href='{row['event_url']}'>{row['title']}</a></h3>\"))\n",
    "    # display(HTML(f\"<h1>{row['event_id']}</h1>\"))\n",
    "    # display(HTML(f\"<h3>{row['title']}</h1>\"))\n",
    "    # display(HTML(f\"<h3>{row['catch']}</h1>\"))\n",
    "    # display(HTML(f\"<h3>{row['event_url']}</h1>\"))\n",
    "    # display(HTML(f\"<h3>{row['hash_tag']}</h1>\"))\n",
    "    # display(HTML(f\"<h3>{row['started_at']}</h1>\"))\n",
    "    # display(HTML(f\"<h3>{row['ended_at']}</h1>\"))\n",
    "    # display(HTML(f\"<h3>{row['limit']}</h1>\"))\n",
    "    # display(HTML(f\"<h3>{row['address']}</h1>\"))\n",
    "    # display(HTML(f\"<h3>{row['place']}</h1>\"))\n",
    "    # display(HTML(f\"<h3>{row['accepted']}</h1>\"))\n",
    "    # display(HTML(f\"<h3>{row['waiting']}</h1>\"))\n",
    "    \n",
    "    # display(HTML(row[\"description\"]))\n",
    "    # display(HTML(\"<hr>\"))"
   ]
  },
  {
   "cell_type": "code",
   "execution_count": null,
   "id": "bf85e9ad-8bfc-4394-811a-5aa0747e9cad",
   "metadata": {},
   "outputs": [],
   "source": []
  },
  {
   "cell_type": "code",
   "execution_count": null,
   "id": "fee43b62-e575-4620-a0fa-fc02289d3a64",
   "metadata": {},
   "outputs": [],
   "source": []
  }
 ],
 "metadata": {
  "kernelspec": {
   "display_name": "Python 3",
   "language": "python",
   "name": "python3"
  },
  "language_info": {
   "codemirror_mode": {
    "name": "ipython",
    "version": 3
   },
   "file_extension": ".py",
   "mimetype": "text/x-python",
   "name": "python",
   "nbconvert_exporter": "python",
   "pygments_lexer": "ipython3",
   "version": "3.8.3"
  }
 },
 "nbformat": 4,
 "nbformat_minor": 5
}
