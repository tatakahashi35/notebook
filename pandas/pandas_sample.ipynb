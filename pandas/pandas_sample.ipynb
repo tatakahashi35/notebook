{
 "cells": [
  {
   "cell_type": "code",
   "execution_count": null,
   "metadata": {},
   "outputs": [],
   "source": [
    "import pandas as pd"
   ]
  },
  {
   "cell_type": "code",
   "execution_count": null,
   "metadata": {},
   "outputs": [],
   "source": [
    "df = pd.read_csv('pokemon.csv')"
   ]
  },
  {
   "cell_type": "code",
   "execution_count": null,
   "metadata": {},
   "outputs": [],
   "source": [
    "df"
   ]
  },
  {
   "cell_type": "code",
   "execution_count": null,
   "metadata": {},
   "outputs": [],
   "source": [
    "df = df[['HP', 'Attack', 'Defense']][:10]"
   ]
  },
  {
   "cell_type": "code",
   "execution_count": null,
   "metadata": {},
   "outputs": [],
   "source": [
    "def color_red_akaten(val):\n",
    "    color = 'red' if val < 40 else 'black'\n",
    "    return f'color: {color}'\n",
    "\n",
    "df.style.applymap(color_red_akaten)"
   ]
  },
  {
   "cell_type": "code",
   "execution_count": null,
   "metadata": {},
   "outputs": [],
   "source": [
    "def highlight_akaten(val):\n",
    "    color = 'yellow' if val < 60 else 'None'\n",
    "    return f'background-color: {color}'\n",
    "\n",
    "df.style.applymap(highlight_akaten)"
   ]
  },
  {
   "cell_type": "code",
   "execution_count": null,
   "metadata": {},
   "outputs": [],
   "source": [
    "def fill_nan(val):\n",
    "    bg_color = 'gray' if pd.isnull(val) else 'None'\n",
    "    color = 'white' if pd.isnull(val) else 'black'\n",
    "    return f'background-color: {bg_color}; color: {color}'\n",
    "\n",
    "df.style.applymap(fill_nan)"
   ]
  },
  {
   "cell_type": "code",
   "execution_count": null,
   "metadata": {},
   "outputs": [],
   "source": [
    "def highlight_green_max(series):\n",
    "    # 最大値だったらlightgreen, それ以外だったらnone(スタイルなし)にする\n",
    "    color_list = ['lightgreen' if val == series.max() else 'none'\n",
    "                  for val in series]\n",
    "\n",
    "    return [f'background-color: {color}' for color in color_list]\n",
    "\n",
    "# axis=1だと、列全体を見る (axis=0だと行全体を見る)\n",
    "df.style.apply(highlight_green_max, axis=0)"
   ]
  },
  {
   "cell_type": "code",
   "execution_count": null,
   "metadata": {},
   "outputs": [],
   "source": [
    "df.style.highlight_max(axis=1).highlight_min(color='red').highlight_null()"
   ]
  },
  {
   "cell_type": "code",
   "execution_count": null,
   "metadata": {},
   "outputs": [],
   "source": [
    "df.style.bar(align='left')"
   ]
  },
  {
   "cell_type": "code",
   "execution_count": null,
   "metadata": {},
   "outputs": [],
   "source": [
    "df.style.background_gradient()"
   ]
  },
  {
   "cell_type": "code",
   "execution_count": null,
   "metadata": {},
   "outputs": [],
   "source": []
  },
  {
   "cell_type": "code",
   "execution_count": null,
   "metadata": {},
   "outputs": [],
   "source": []
  }
 ],
 "metadata": {
  "kernelspec": {
   "display_name": "Python 3",
   "language": "python",
   "name": "python3"
  },
  "language_info": {
   "codemirror_mode": {
    "name": "ipython",
    "version": 3
   },
   "file_extension": ".py",
   "mimetype": "text/x-python",
   "name": "python",
   "nbconvert_exporter": "python",
   "pygments_lexer": "ipython3",
   "version": "3.8.3"
  }
 },
 "nbformat": 4,
 "nbformat_minor": 4
}
